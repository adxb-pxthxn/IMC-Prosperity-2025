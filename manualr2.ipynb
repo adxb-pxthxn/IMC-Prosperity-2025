{
 "cells": [
  {
   "cell_type": "code",
   "execution_count": 3,
   "id": "c23e32c6-f2d5-4cdd-949b-56fe5102be1c",
   "metadata": {},
   "outputs": [],
   "source": [
    "import numpy as np\n",
    "import itertools\n",
    "import math\n",
    "from wolframclient.evaluation import WolframLanguageSession\n",
    "from wolframclient.language import wl, wlexpr\n",
    "import heapq\n",
    "import pandas as pd"
   ]
  },
  {
   "cell_type": "markdown",
   "id": "257fa476-10b9-47a2-a4ae-909fc37eff65",
   "metadata": {},
   "source": [
    "# Problem statement\n",
    "\n",
    "<p float=\"left\">\n",
    "  <img src=\"https://i.imgur.com/nDe6qQB.png\" width=\"500\" />\n",
    "  <img src=\"https://i.imgur.com/o7ruAe7.png\" width=\"600\" />\n",
    "</p>\n",
    "\n",
    "<img src=\"https://i.imgur.com/3R1W4Ln.png\" width=\"800\" />\n",
    "\n",
    "Here's a breakdown of how your profit from an expedition will be computed:\n",
    "Every spot has its **treasure multiplier** (up to 100) and the number of **inhabitants** (up to 8). The spot's total treasure is the product of the **base treasure** (10000, same for all spots) and the spot's specific treasure multiplier. However, the resulting amount is then divided by the sum of the hunters and the percentage of all the expeditions (from other players) that took place there. For example, if a field has 5 hunters, and 10% of all the expeditions (from all the other players) are also going there, the prize you get from that field will be divided by 15. After the division, **expedition costs** apply (if there are any), and profit is what remains.\n",
    "\n",
    "Second expedition is optional: you are not required to do both. Fee for embarking upon a second expedition is 50 000. Order of submitted expeditions does not matter for grading.\n",
    "\n",
    "# Solution\n",
    "\n",
    "The profit for an expedition to a destination with $M$ as multiplier, $H$ inhabitants, and share $p\\in [0,1]$ of all expeditions is:\n",
    "$$\\begin{cases} \n",
    "10000\\frac M{H+100 p} &\\text{if this is the first expedition,}  \n",
    "\\\\ 10000\\frac M{H+100 p} - 50000 &\\text{if this is the second expedition,} \n",
    "\\end{cases} \n",
    "$$\n",
    "The second expedition is profitable if and only if $p < \\frac{M - 5 H}{500}$.  \n",
    "Let us see from the data how stringent these conditions are on $p$."
   ]
  },
  {
   "cell_type": "code",
   "execution_count": 18,
   "id": "0d817c83-1b78-4955-9164-c8d380b6e2bd",
   "metadata": {},
   "outputs": [],
   "source": [
    "# collecting all the cases \n",
    "arr = np.array([(10,1), (80,6), (37,3), (17,1), (31,2), (90,10), (50,4), (20,2), (73,4), (89,8)])"
   ]
  },
  {
   "cell_type": "markdown",
   "id": "d9c76af0-5445-4dd2-9dfd-10a57f84365d",
   "metadata": {},
   "source": [
    "The next cell computes the array with entries $\\frac{3M - 10 H}{1000}$."
   ]
  },
  {
   "cell_type": "code",
   "execution_count": null,
   "id": "6cafab94-9dab-47c6-9f43-8bb8511bd721",
   "metadata": {},
   "outputs": [
    {
     "name": "stdout",
     "output_type": "stream",
     "text": [
      "[0.01  0.1   0.044 0.024 0.042 0.08  0.06  0.02  0.106 0.098]\n"
     ]
    }
   ],
   "source": [
    "thresh = np.zeros((10))\n",
    "for i in range(10):\n",
    "        mult, hunt = arr[i]\n",
    "        thresh[i] = (mult - 5*hunt)/500\n",
    "with np.printoptions(precision=3, suppress=True):\n",
    "    # if the probability for visiting the ith block is thresh[i], then i is profitable\n",
    "    print(thresh)\n",
    "\n"
   ]
  },
  {
   "cell_type": "markdown",
   "id": "4a11ba0b-efad-4130-b5da-b4abb9e95329",
   "metadata": {},
   "source": [
    "## 1. Maximin approach"
   ]
  },
  {
   "cell_type": "markdown",
   "id": "a2ef51ec-1491-4f6c-9f72-f35333dff90a",
   "metadata": {},
   "source": [
    "The shares are computed once the choices of destinations are collected over all the teams.  \n",
    "However, since the number of teams is large, our choice has very little impact on the shares.\n",
    "\n",
    "One way to tackle the uncertainty in the share $p$ is to consider the most pessimistic setting where $p$ is chosen by a malicious adversary in order to make our profit as small as possible.  \n",
    "For a choice of a single destination $(M,H)$, our profit $\\pi(M,H,p)$ rewrites $\\pi(M,H,p^*(M,H))$ where $p^*(M,H)$ is a solution of \n",
    "$$\\min_{p\\in [0,1]}  \\frac {10000M}{H+100p}.$$\n",
    "For a single expedition, the complete optimization problem is therefore \n",
    "$$\\max_{(M,H)} \\min_{p\\in [0,1]}  \\frac {10000M}{H+100 p} = \\max_{(M,H)}  \\frac {10000M}{H+100}$$"
   ]
  },
  {
   "cell_type": "code",
   "execution_count": 46,
   "id": "4a7e55a5-a67b-4ead-9934-4a8cf638ccaf",
   "metadata": {},
   "outputs": [],
   "source": [
    "def maximin1():\n",
    "    \"\"\"Solves the maximin optimization problem for a single expedition.\n",
    "\n",
    "    Parameters\n",
    "    ----------\n",
    "    \n",
    "    Returns\n",
    "    -------\n",
    "    argmax : list of tuple\n",
    "        Maximizers.\n",
    "    max_val : float\n",
    "        Maximal profit.\n",
    "        \n",
    "    \"\"\"\n",
    "    max_val = float('-inf')\n",
    "    argmax = []\n",
    "    for mult, hunt in arr:\n",
    "        val = (mult / (hunt + 100)) * 10000\n",
    "        if math.isclose(val, max_val):\n",
    "            argmax.append((mult, hunt))\n",
    "        elif val > max_val:\n",
    "            argmax = [(mult, hunt)]\n",
    "            max_val = val\n",
    "    return (argmax, max_val)"
   ]
  },
  {
   "cell_type": "code",
   "execution_count": 47,
   "id": "f46031c3-849c-4c48-ac16-24a08ad99f69",
   "metadata": {},
   "outputs": [
    {
     "data": {
      "text/plain": [
       "([(89, 8)], 8240.74074074074)"
      ]
     },
     "execution_count": 47,
     "metadata": {},
     "output_type": "execute_result"
    }
   ],
   "source": [
    "maximin1()"
   ]
  },
  {
   "cell_type": "markdown",
   "id": "7b122b0e-b2e7-46ce-844c-d08b2fb85545",
   "metadata": {},
   "source": [
    "For a total of two expeditions, the optimization problem is \n",
    "$$\\max_{(M_1,H_1), (M_2,H_2)} \\quad \\min_{\\substack{p_1, p_2\\in [0,1]\\\\ p_1+p_2\\leq 1}}  \\frac {10000M_1}{H_1+100 p_1}+\\frac {10000M_2}{H_2+100 p_2}-50000.$$\n",
    "Since the inner minimization problem is no longer trivial, we make a call to the Mathematica function `NMinimize` to solve it."
   ]
  },
  {
   "cell_type": "code",
   "execution_count": 54,
   "id": "ab82f43c",
   "metadata": {},
   "outputs": [],
   "source": [
    "\n",
    "def maximize2():\n",
    "    \"\"\"Solves the maximin optimization problem for two expeditions. Returns only one solution, there may be other.\n",
    "\n",
    "    Parameters\n",
    "    ----------\n",
    "    \n",
    "    Returns\n",
    "    -------\n",
    "    argmax1 : tuple\n",
    "        First expedition.\n",
    "    argmax2 : tuple\n",
    "        Second expedition.\n",
    "    max_val : float\n",
    "        Maximal profit.\n",
    "        \n",
    "    \"\"\"\n",
    "    max_val = float('-inf')\n",
    "    max_mult1, max_hunt1 = None, None\n",
    "    max_mult2, max_hunt2 = None, None\n",
    "    for (mult1, hunt1), (mult2, hunt2) in itertools.combinations(arr, 2):\n",
    "        val_temp = float('inf')\n",
    "        for p1 in range(0,100):\n",
    "            for p2 in range(0,100):\n",
    "                if (p1 + p2) > 100: break\n",
    "                val_temp = min(val_temp, \n",
    "                               ((mult1/(hunt1+p1)) + (mult2/(hunt2+ p2))))\n",
    "        # val_temp = session.evaluate(wlexpr(f'NMinimize[{{{mult1}/({hunt1} + 100*p1) + {mult2}/({hunt2} + 100*p2), 0 <= p1, 0 <= p2, p1 + p2 <= 1}}, {{p1, p2}}]'))[0]\n",
    "        val = -50000 + val_temp * 10000\n",
    "        print((mult1,hunt1), (mult2,hunt2), val_temp, val)\n",
    "        if math.isclose(val, max_val):\n",
    "            print(\"collision\")\n",
    "        if val > max_val:\n",
    "            max_mult1, max_hunt1 = mult1, hunt1\n",
    "            max_mult2, max_hunt2 = mult2, hunt2\n",
    "            max_val = val\n",
    "    return ((max_mult1, max_hunt1), (max_mult2, max_hunt2), max_val)"
   ]
  },
  {
   "cell_type": "code",
   "execution_count": 55,
   "id": "30b6cc2c-8494-4dd0-a084-27deefc3c42c",
   "metadata": {},
   "outputs": [
    {
     "name": "stdout",
     "output_type": "stream",
     "text": [
      "(10, 1) (80, 6) 1.3698010849909585 -36301.98915009041\n",
      "(10, 1) (37, 3) 0.8218954248366013 -41781.04575163399\n",
      "(10, 1) (17, 1) 0.5203761755485893 -44796.238244514105\n",
      "(10, 1) (31, 2) 0.73996723996724 -42600.3276003276\n",
      "(10, 1) (90, 10) 1.4414802065404475 -35585.197934595526\n",
      "(10, 1) (50, 4) 0.997431506849315 -40025.684931506854\n",
      "(10, 1) (20, 2) 0.5658914728682171 -44341.08527131783\n",
      "(10, 1) (73, 4) 1.3051948051948052 -36948.05194805194\n",
      "(10, 1) (89, 8) 1.455736224028907 -35442.63775971093\n",
      "(80, 6) (37, 3) 2.0716783216783217 -29283.216783216783\n",
      "(80, 6) (17, 1) 1.595890410958904 -34041.09589041096\n",
      "(80, 6) (31, 2) 1.9501274117218783 -30498.72588278122\n",
      "(80, 6) (90, 10) 2.928571428571429 -20714.28571428571\n",
      "(80, 6) (50, 4) 2.3318835731013716 -26681.164268986286\n",
      "(80, 6) (20, 2) 1.6666666666666667 -33333.33333333333\n",
      "(80, 6) (73, 4) 2.7804232804232805 -22195.767195767196\n",
      "(80, 6) (89, 8) 2.963020030816641 -20369.79969183359\n",
      "(37, 3) (17, 1) 1.001536098310292 -39984.63901689708\n",
      "(37, 3) (31, 2) 1.2927272727272727 -37072.72727272727\n",
      "(37, 3) (90, 10) 2.1452569169960474 -28547.430830039528\n",
      "(37, 3) (50, 4) 1.6171710063335678 -33828.289936664325\n",
      "(37, 3) (20, 2) 1.061102831594635 -39388.97168405365\n",
      "(37, 3) (73, 4) 1.9996392496392499 -30003.6075036075\n",
      "(37, 3) (89, 8) 2.1692672998643148 -28307.32700135685\n",
      "(17, 1) (31, 2) 0.9117873651771957 -40882.12634822804\n",
      "(17, 1) (90, 10) 1.6688311688311688 -33311.68831168831\n",
      "(17, 1) (50, 4) 1.1934731934731935 -38065.268065268065\n",
      "(17, 1) (20, 2) 0.7173091458805745 -42826.90854119426\n",
      "(17, 1) (73, 4) 1.528169014084507 -34718.30985915493\n",
      "(17, 1) (89, 8) 1.6862041467304625 -33137.958532695375\n",
      "(31, 2) (90, 10) 2.0237031947784265 -29762.968052215736\n",
      "(31, 2) (50, 4) 1.5070320952037504 -34929.6790479625\n",
      "(31, 2) (20, 2) 0.9692653673163418 -40307.34632683658\n",
      "(31, 2) (73, 4) 1.8787202380952381 -31212.79761904762\n",
      "(31, 2) (89, 8) 2.045952633439378 -29540.47366560622\n",
      "(90, 10) (50, 4) 2.405023547880691 -25949.76452119309\n",
      "(90, 10) (20, 2) 1.739766081871345 -32602.339181286552\n",
      "(90, 10) (73, 4) 2.851851851851852 -21481.481481481478\n",
      "(90, 10) (89, 8) 3.0338983050847457 -19661.016949152545\n",
      "(50, 4) (20, 2) 1.2570356472795496 -37429.643527204506\n",
      "(50, 4) (73, 4) 2.2576962988585265 -27423.037011414734\n",
      "(50, 4) (89, 8) 2.432291666666667 -25677.083333333332\n",
      "(20, 2) (73, 4) 1.5984126984126985 -34015.87301587302\n",
      "(20, 2) (89, 8) 1.7580952380952382 -32419.04761904762\n",
      "(73, 4) (89, 8) 2.885833066837224 -21141.66933162776\n"
     ]
    },
    {
     "data": {
      "text/plain": [
       "((90, 10), (89, 8), -19661.016949152545)"
      ]
     },
     "execution_count": 55,
     "metadata": {},
     "output_type": "execute_result"
    }
   ],
   "source": [
    "maximize2()"
   ]
  },
  {
   "cell_type": "markdown",
   "id": "2cdbe70e-114a-4bfe-9864-eea56bbcfb39",
   "metadata": {},
   "source": [
    "When proceeding with two expeditions, you only lose money.  \n",
    "From the pessimistic maximin standpoint, it is better to go for a single expedition."
   ]
  },
  {
   "cell_type": "markdown",
   "id": "439ad2b6-cb8c-40e7-9762-579bfb09b08e",
   "metadata": {},
   "source": [
    "## 2. Optimization given a prior\n",
    "\n",
    "A less pessimistic approach is to model the shares *a priori*.\n",
    "For each destination, the corresponding share is no longer unknown. \n",
    "Instead we posit a value for this share.  \n",
    "Shares are nonnegative and sum to $1$, thus shares are modelled by a probability distribution that we call a prior.\n",
    "\n",
    "Given a prior, the optimization problem is \n",
    "$$\\max_{L\\in \\{1,2,3\\}} \\quad \\max_{(M_i,H_i,p_i)} \\text{fee}(L) + \\sum_{i=1}^L \\frac{10000 M_i}{H_i + 100p_i}   $$\n",
    "\n",
    "### a. Natural prior\n",
    "\n",
    "The ratio $M/H$ seems like a plausible proxy for the attractiveness of a destination.  \n",
    "We compute the array `ratios` with entries $\\frac MH$ and normalize it to obtain the prior array `shares` on the distribution of expeditions."
   ]
  },
  {
   "cell_type": "code",
   "execution_count": 57,
   "id": "1769e0d7-ee63-47d5-a0c1-26c345f31f10",
   "metadata": {},
   "outputs": [
    {
     "name": "stdout",
     "output_type": "stream",
     "text": [
      "Ratios:\n",
      "[10.   13.33 12.33 17.   15.5   9.   12.5  10.   18.25 11.12]\n"
     ]
    }
   ],
   "source": [
    "ratios = np.zeros((10))\n",
    "for i in range(10):\n",
    "        mult, hunt = arr[i]\n",
    "        ratios[i] = mult/hunt\n",
    "with np.printoptions(precision=2, suppress=True):\n",
    "    print(\"Ratios:\", ratios, sep='\\n')"
   ]
  },
  {
   "cell_type": "code",
   "execution_count": 58,
   "id": "9c900884-6f8b-4257-be49-5d9143d38fc1",
   "metadata": {},
   "outputs": [
    {
     "name": "stdout",
     "output_type": "stream",
     "text": [
      "Natural prior:\n",
      "[0.077 0.103 0.096 0.132 0.12  0.07  0.097 0.077 0.141 0.086]\n"
     ]
    }
   ],
   "source": [
    "shares = ratios / np.sum(ratios)\n",
    "with np.printoptions(precision=3, suppress=True):\n",
    "    print(\"Natural prior:\", shares, sep='\\n')"
   ]
  },
  {
   "cell_type": "markdown",
   "id": "a99b1609-893f-4cbe-9112-68b4e010ff25",
   "metadata": {},
   "source": [
    "`shares[0, 0] = 0.077` means that we posit that $7.7\\%$ of all expeditions will go to the destination with multiplier $10$ and $1$ inhabitant.\n",
    "\n",
    "The difference between larger and smaller values in `ratios` can be accentuated by elevating all the entries of `ratios` to some power."
   ]
  },
  {
   "cell_type": "code",
   "execution_count": 59,
   "id": "51844d14-6716-4fa5-bbfa-85dfec31190a",
   "metadata": {},
   "outputs": [
    {
     "name": "stdout",
     "output_type": "stream",
     "text": [
      "Natural prior with exponent 5:\n",
      "[0.017 0.073 0.049 0.246 0.155 0.01  0.053 0.017 0.35  0.029]\n"
     ]
    }
   ],
   "source": [
    "ratios = np.zeros(10)\n",
    "for i in range(10):\n",
    "        mult, hunt = arr[i]\n",
    "        ratios[i] = mult/hunt\n",
    "ratios = ratios**5\n",
    "shares = ratios / np.sum(ratios)\n",
    "with np.printoptions(precision=3, suppress=True):\n",
    "    print(\"Natural prior with exponent 5:\", shares, sep='\\n')"
   ]
  },
  {
   "cell_type": "markdown",
   "id": "2ccaa605-3fd4-4cee-87f6-2df1e75d9618",
   "metadata": {},
   "source": [
    "The next cell solves the optimization problem by iterating over the whole state space."
   ]
  },
  {
   "cell_type": "code",
   "execution_count": null,
   "id": "90f95bc6-6052-40a8-bade-4a3741bc7d2a",
   "metadata": {},
   "outputs": [],
   "source": [
    "def fee(n):\n",
    "    \"\"\"Compute the fee for a total of n expeditions.\n",
    "\n",
    "    Parameters\n",
    "    ----------\n",
    "    n : int\n",
    "        Number of expeditions.\n",
    "    \n",
    "    Returns\n",
    "    -------\n",
    "    float\n",
    "        Fee.\n",
    "    \"\"\"\n",
    "    if n == 1:\n",
    "        return 0\n",
    "    if n == 2:\n",
    "        return -50000\n",
    "    if n == 3:\n",
    "        return -100000000 # discourage 3 since not allowed\n",
    "def payoff(mults, hunts, shares):\n",
    "    \"\"\"Compute the final profit after the expeditions.\n",
    "\n",
    "    Parameters\n",
    "    ----------\n",
    "    mults : list of int\n",
    "        Multipliers for each destination.\n",
    "    hunts : list of int\n",
    "        Hunters for each destination.\n",
    "    shares : list of int\n",
    "        Shares for each destination.\n",
    "    \n",
    "    Returns\n",
    "    -------\n",
    "    float\n",
    "        Profit.\n",
    "    \"\"\"\n",
    "    return 10000 * sum([mult/(hunt + 100*share) for (mult, hunt, share) in zip(mults, hunts, shares)]) + fee(len(mults))\n",
    "\n",
    "def maximize_prior_top(shares, k):\n",
    "    \"\"\"Given the prior, compute solutions that yield top k profits.\n",
    "\n",
    "    Parameters\n",
    "    ----------\n",
    "    shares : list of int\n",
    "        Shares for each destination.\n",
    "    k : int\n",
    "        Number of solutions\n",
    "    \n",
    "    Returns\n",
    "    -------\n",
    "    list of tuple\n",
    "        Top k profits and optimal expeditions.\n",
    "    \"\"\"\n",
    "    datas = [(mult, hunt, share) for ((mult, hunt), share) in zip(arr, shares)]\n",
    "    heap = []\n",
    "    iterables = [itertools.combinations(datas, n_exp) for n_exp in range(1, 4)]\n",
    "    for (i, data) in enumerate(itertools.chain.from_iterable(iterables)):\n",
    "        mults = [tupl[0] for tupl in data]\n",
    "        hunts = [tupl[1] for tupl in data]\n",
    "        shares = [tupl[-1] for tupl in data]\n",
    "        val = payoff(mults, hunts, shares)\n",
    "        expeditions = list(zip(mults, hunts))\n",
    "        if i < k:\n",
    "            heapq.heappush(heap, (val, expeditions))\n",
    "        elif val > heap[0][0]:\n",
    "            heapq.heappop(heap)\n",
    "            heapq.heappush(heap, (val, expeditions))\n",
    "    return sorted(heap, reverse=True)"
   ]
  },
  {
   "cell_type": "markdown",
   "id": "bde66843-542a-4777-b2bf-f50a4643bf73",
   "metadata": {},
   "source": [
    "Next, we consider the priors obtained by elevating the entries of `ratios` to an exponent `i`.   \n",
    "When `i=0`, the prior is uniformly distributed over all destinations."
   ]
  },
  {
   "cell_type": "code",
   "execution_count": null,
   "id": "df795dff-ac08-4843-8a4a-187054596fa6",
   "metadata": {},
   "outputs": [
    {
     "name": "stdout",
     "output_type": "stream",
     "text": [
      "Exponent: 0 Profit: 52142.86 Optimal expeditions: [(80, 6), (73, 4)]\n",
      "Exponent: 1 Profit: 112950.96 Optimal expeditions: [(90, 10), (89, 8)]\n",
      "Exponent: 2 Profit: 150937.16 Optimal expeditions: [(80, 6), (89, 8)]\n",
      "Exponent: 3 Profit: 188807.03 Optimal expeditions: [(80, 6), (50, 4)]\n",
      "Exponent: 4 Profit: 203913.93 Optimal expeditions: [(80, 6), (50, 4)]\n",
      "Exponent: 5 Profit: 207401.27 Optimal expeditions: [(80, 6), (50, 4)]\n",
      "Exponent: 6 Profit: 208140.55 Optimal expeditions: [(80, 6), (50, 4)]\n",
      "Exponent: 7 Profit: 217912.87 Optimal expeditions: [(80, 6), (31, 2)]\n",
      "Exponent: 8 Profit: 228373.52 Optimal expeditions: [(80, 6), (31, 2)]\n",
      "Exponent: 9 Profit: 233692.40 Optimal expeditions: [(80, 6), (31, 2)]\n",
      "Exponent: 10 Profit: 236222.72 Optimal expeditions: [(80, 6), (31, 2)]\n",
      "Exponent: 11 Profit: 237385.53 Optimal expeditions: [(80, 6), (31, 2)]\n",
      "Exponent: 12 Profit: 237910.54 Optimal expeditions: [(80, 6), (31, 2)]\n",
      "Exponent: 13 Profit: 238145.42 Optimal expeditions: [(80, 6), (31, 2)]\n",
      "Exponent: 14 Profit: 238249.99 Optimal expeditions: [(80, 6), (31, 2)]\n",
      "Exponent: 15 Profit: 238296.41 Optimal expeditions: [(80, 6), (31, 2)]\n",
      "Exponent: 16 Profit: 238316.99 Optimal expeditions: [(80, 6), (31, 2)]\n",
      "Exponent: 17 Profit: 242116.40 Optimal expeditions: [(17, 1), (31, 2)]\n",
      "Exponent: 18 Profit: 250510.80 Optimal expeditions: [(17, 1), (31, 2)]\n",
      "Exponent: 19 Profit: 257045.49 Optimal expeditions: [(17, 1), (31, 2)]\n",
      "Exponent: 20 Profit: 261993.80 Optimal expeditions: [(17, 1), (31, 2)]\n",
      "Exponent: 21 Profit: 265662.90 Optimal expeditions: [(17, 1), (31, 2)]\n",
      "Exponent: 22 Profit: 268341.25 Optimal expeditions: [(17, 1), (31, 2)]\n",
      "Exponent: 23 Profit: 270274.13 Optimal expeditions: [(17, 1), (31, 2)]\n",
      "Exponent: 24 Profit: 271657.53 Optimal expeditions: [(17, 1), (31, 2)]\n",
      "Exponent: 25 Profit: 272641.80 Optimal expeditions: [(17, 1), (31, 2)]\n",
      "Exponent: 26 Profit: 273339.15 Optimal expeditions: [(17, 1), (31, 2)]\n",
      "Exponent: 27 Profit: 273831.73 Optimal expeditions: [(17, 1), (31, 2)]\n",
      "Exponent: 28 Profit: 274178.94 Optimal expeditions: [(17, 1), (31, 2)]\n",
      "Exponent: 29 Profit: 274423.32 Optimal expeditions: [(17, 1), (31, 2)]\n",
      "Exponent: 30 Profit: 274595.13 Optimal expeditions: [(17, 1), (31, 2)]\n",
      "Exponent: 31 Profit: 274715.85 Optimal expeditions: [(17, 1), (31, 2)]\n",
      "Exponent: 32 Profit: 274800.61 Optimal expeditions: [(17, 1), (31, 2)]\n",
      "Exponent: 33 Profit: 274860.11 Optimal expeditions: [(17, 1), (31, 2)]\n",
      "Exponent: 34 Profit: 274901.86 Optimal expeditions: [(17, 1), (31, 2)]\n",
      "Exponent: 35 Profit: 274931.16 Optimal expeditions: [(17, 1), (31, 2)]\n",
      "Exponent: 36 Profit: 274951.71 Optimal expeditions: [(17, 1), (31, 2)]\n",
      "Exponent: 37 Profit: 274966.13 Optimal expeditions: [(17, 1), (31, 2)]\n",
      "Exponent: 38 Profit: 274976.25 Optimal expeditions: [(17, 1), (31, 2)]\n",
      "Exponent: 39 Profit: 274983.34 Optimal expeditions: [(17, 1), (31, 2)]\n",
      "Exponent: 40 Profit: 274988.31 Optimal expeditions: [(17, 1), (31, 2)]\n",
      "Exponent: 41 Profit: 274991.80 Optimal expeditions: [(17, 1), (31, 2)]\n",
      "Exponent: 42 Profit: 274994.25 Optimal expeditions: [(17, 1), (31, 2)]\n",
      "Exponent: 43 Profit: 274995.97 Optimal expeditions: [(17, 1), (31, 2)]\n",
      "Exponent: 44 Profit: 274997.17 Optimal expeditions: [(17, 1), (31, 2)]\n",
      "Exponent: 45 Profit: 274998.02 Optimal expeditions: [(17, 1), (31, 2)]\n",
      "Exponent: 46 Profit: 274998.61 Optimal expeditions: [(17, 1), (31, 2)]\n",
      "Exponent: 47 Profit: 274999.02 Optimal expeditions: [(17, 1), (31, 2)]\n",
      "Exponent: 48 Profit: 274999.32 Optimal expeditions: [(17, 1), (31, 2)]\n",
      "Exponent: 49 Profit: nan Optimal expeditions: [(73, 4)]\n"
     ]
    },
    {
     "name": "stderr",
     "output_type": "stream",
     "text": [
      "C:\\Users\\gdas2\\AppData\\Local\\Temp\\ipykernel_11600\\1002411719.py:2: RuntimeWarning: overflow encountered in power\n",
      "  shares = ratios**i\n",
      "C:\\Users\\gdas2\\AppData\\Local\\Temp\\ipykernel_11600\\1002411719.py:3: RuntimeWarning: invalid value encountered in divide\n",
      "  shares = shares / np.sum(shares)\n"
     ]
    }
   ],
   "source": [
    "for i in range(10):\n",
    "    shares = ratios**i\n",
    "    shares = shares / np.sum(shares)\n",
    "    res = maximize_prior_top(shares, 20)\n",
    "    print(\"Exponent:\", i, \"Profit:\", f\"{res[0][0]:.2f}\", \"Optimal expeditions:\", res[0][1])"
   ]
  },
  {
   "cell_type": "code",
   "execution_count": 79,
   "id": "d459ee4d",
   "metadata": {},
   "outputs": [
    {
     "name": "stdout",
     "output_type": "stream",
     "text": [
      "Ratios:\n",
      "[10. 80. 37. 17. 31. 90. 50. 20. 73. 89.]\n",
      "Natural prior:\n",
      "[0.02  0.161 0.074 0.034 0.062 0.181 0.101 0.04  0.147 0.179]\n",
      "Exponent: 0 Profit: 52142.86 Optimal expeditions: [(80, 6), (73, 4)]\n",
      "Exponent: 1 Profit: 39062.23 Optimal expeditions: [(73, 4)]\n",
      "Exponent: 2 Profit: 118042.44 Optimal expeditions: [(10, 1), (17, 1)]\n",
      "Exponent: 3 Profit: 190483.33 Optimal expeditions: [(17, 1), (31, 2)]\n",
      "Exponent: 4 Profit: 240138.47 Optimal expeditions: [(17, 1), (31, 2)]\n",
      "Exponent: 5 Profit: 261738.22 Optimal expeditions: [(17, 1), (31, 2)]\n",
      "Exponent: 6 Profit: 270150.76 Optimal expeditions: [(17, 1), (31, 2)]\n",
      "Exponent: 7 Profit: 273256.80 Optimal expeditions: [(17, 1), (31, 2)]\n",
      "Exponent: 8 Profit: 274377.61 Optimal expeditions: [(17, 1), (31, 2)]\n",
      "Exponent: 9 Profit: 274778.52 Optimal expeditions: [(17, 1), (31, 2)]\n"
     ]
    }
   ],
   "source": [
    "# using the multiplier as a priori\n",
    "ratios = np.zeros((10))\n",
    "for i in range(10):\n",
    "        mult,_= arr[i]\n",
    "        ratios[i] = mult\n",
    "with np.printoptions(precision=2, suppress=True):\n",
    "    print(\"Ratios:\", ratios, sep='\\n')\n",
    "\n",
    "shares = ratios / np.sum(ratios)\n",
    "with np.printoptions(precision=3, suppress=True):\n",
    "    print(\"Natural prior:\", shares, sep='\\n')\n",
    "\n",
    "for i in range(10):\n",
    "    shares = ratios**i\n",
    "    shares = shares / np.sum(shares)\n",
    "    res = maximize_prior_top(shares, 20)\n",
    "    print(\"Exponent:\", i, \"Profit:\", f\"{res[0][0]:.2f}\", \"Optimal expeditions:\", res[0][1])"
   ]
  },
  {
   "cell_type": "markdown",
   "id": "7a855ab8-ab42-4caf-b73a-7fab6d142366",
   "metadata": {},
   "source": [
    "### Results \n",
    "\n",
    "In order to balance the results for the different priors that I explored, my final choice was two expeditions on the tiles with multipliers $100$ and $82$. \n",
    "\n",
    "<img src=\"https://i.imgur.com/n7q6t4x.png\" width=\"1200\" />\n",
    "\n",
    "\n",
    "Some of the true (i.e., ex post) shares are collected [here](https://docs.google.com/spreadsheets/d/1PlQlcJmFzcFJ_DV62cvzkVgphLiW0A5hLf7IwLlvYJQ/edit#gid=0)."
   ]
  },
  {
   "cell_type": "code",
   "execution_count": null,
   "id": "f477af55-8213-4f93-af11-8d94f62836c9",
   "metadata": {},
   "outputs": [
    {
     "name": "stdout",
     "output_type": "stream",
     "text": [
      "True shares:\n",
      "[[0.015 0.082 0.019   nan 0.037]\n",
      " [0.03  0.062 0.098 0.041 0.012]\n",
      " [0.113 0.108 0.049 0.034 0.006]\n",
      " [0.046 0.054 0.065 0.054 0.026]\n",
      " [  nan   nan 0.019   nan   nan]]\n"
     ]
    }
   ],
   "source": [
    "temp = pd.read_csv('data/shares.csv', sep=';', header=None).to_numpy()\n",
    "dic = {mult:share for (mult, share) in temp}\n",
    "shares_true = np.zeros((5,5))\n",
    "for i in range(5):\n",
    "    for j in range(5):\n",
    "        shares_true[i, j] = dic[arr[i, j][0]]\n",
    "shares_true = shares_true/100\n",
    "with np.printoptions(precision=3, suppress=True):\n",
    "    print(\"True shares:\", shares_true, sep='\\n')"
   ]
  },
  {
   "cell_type": "markdown",
   "id": "e44e3d87-a83f-4c29-a3d9-066b87ed9365",
   "metadata": {},
   "source": [
    "Filling in the NaNs with equal values, the top 10 choices are displayed below."
   ]
  },
  {
   "cell_type": "code",
   "execution_count": null,
   "id": "e4fb7ea2-7694-40ce-be03-e6a73559781c",
   "metadata": {},
   "outputs": [
    {
     "data": {
      "text/plain": [
       "[(106290.59586034171, [(80, 5), (52, 4)]),\n",
       " (105375.42951194028, [(90, 7), (52, 4)]),\n",
       " (105301.14425749943, [(80, 5), (90, 7)]),\n",
       " (103938.17304238147, [(52, 4), (30, 3)]),\n",
       " (103892.67636555269, [(35, 3), (52, 4)]),\n",
       " (103863.8877879406, [(80, 5), (30, 3)]),\n",
       " (103818.39111111182, [(80, 5), (35, 3)]),\n",
       " (103583.32345590748, [(41, 3), (52, 4)]),\n",
       " (103509.03820146661, [(41, 3), (80, 5)]),\n",
       " (102948.72143953915, [(90, 7), (30, 3)])]"
      ]
     },
     "execution_count": 19,
     "metadata": {},
     "output_type": "execute_result"
    }
   ],
   "source": [
    "val_nan = (1-np.nansum(shares_true))/np.sum(np.isnan(shares_true))\n",
    "maximize_prior_top(np.nan_to_num(shares_true, nan=val_nan),10)"
   ]
  },
  {
   "cell_type": "markdown",
   "id": "75dc4cc7-9380-4588-9cd3-9223512fc051",
   "metadata": {},
   "source": [
    "The optimal decision was to go for two expeditions at the tiles with multipliers $80$ and $52$."
   ]
  },
  {
   "cell_type": "code",
   "execution_count": null,
   "id": "fa08ec9a-72ca-4216-a3c1-c4b3ff3c952a",
   "metadata": {},
   "outputs": [],
   "source": []
  }
 ],
 "metadata": {
  "kernelspec": {
   "display_name": "base",
   "language": "python",
   "name": "python3"
  },
  "language_info": {
   "codemirror_mode": {
    "name": "ipython",
    "version": 3
   },
   "file_extension": ".py",
   "mimetype": "text/x-python",
   "name": "python",
   "nbconvert_exporter": "python",
   "pygments_lexer": "ipython3",
   "version": "3.12.7"
  }
 },
 "nbformat": 4,
 "nbformat_minor": 5
}
