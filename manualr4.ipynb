{
 "cells": [
  {
   "cell_type": "code",
   "execution_count": 2,
   "id": "c74e833f",
   "metadata": {},
   "outputs": [],
   "source": [
    "import numpy as np\n",
    "from sklearn.linear_model import LinearRegression\n",
    "from sklearn.metrics import mean_absolute_error, root_mean_squared_error\n",
    "import itertools\n",
    "import heapq"
   ]
  },
  {
   "cell_type": "code",
   "execution_count": 3,
   "id": "2835bed7",
   "metadata": {},
   "outputs": [],
   "source": [
    "prev_data = np.array([[10, 1, 0.00998], [80,6,0.18178], [37,3,0.05118], [17,1,0.07539], [90,10,0.11807], [31,2,0.06987], [50,4,0.08516], [20,2,0.01614], [73,4,0.24060], [89,8,0.15184], [100,8,0.049]])\n",
    "\n",
    "x = prev_data[:,0:2]\n",
    "y = prev_data[:,2]\n",
    "\n",
    "model = LinearRegression()\n",
    "model.fit(x, y)\n",
    "\n",
    "def predict_percentage(inhabitants, multiplier):\n",
    "    return model.predict([[inhabitants, multiplier]])[0]"
   ]
  },
  {
   "cell_type": "code",
   "execution_count": 4,
   "id": "2b976f97",
   "metadata": {},
   "outputs": [
    {
     "data": {
      "text/plain": [
       "{'Mean Absolute Error': 0.0340498,\n",
       " 'Root Mean Squared Error': 0.0460207,\n",
       " 'Accuracy': 99.9659502}"
      ]
     },
     "execution_count": 4,
     "metadata": {},
     "output_type": "execute_result"
    }
   ],
   "source": [
    "def check_accuracy(test_data, predict_percentage):\n",
    "    \"\"\"\n",
    "    Evaluates the accuracy of the predict_percentage model.\n",
    "\n",
    "    Parameters:\n",
    "    - test_data: List of tuples in the form [(inhabitants, multiplier, true_percentage), ...]\n",
    "    - predict_percentage: A function that takes (inhabitants, multiplier) and returns predicted percentage\n",
    "\n",
    "    Returns:\n",
    "    - Dictionary with MAE and RMSE\n",
    "    \"\"\"\n",
    "    y_true = []\n",
    "    y_pred = []\n",
    "\n",
    "    for inhabitants, multiplier, true_pct in test_data:\n",
    "        pred = predict_percentage(inhabitants, multiplier)\n",
    "        y_true.append(true_pct)\n",
    "        y_pred.append(pred)\n",
    "\n",
    "    mae = mean_absolute_error(y_true, y_pred)\n",
    "    rmse = root_mean_squared_error(y_true, y_pred)\n",
    "\n",
    "    return {\n",
    "        'Mean Absolute Error': round(mae, 7),\n",
    "        'Root Mean Squared Error': round(rmse, 7),\n",
    "        'Accuracy': round(100 - mae, 7)  # crude accuracy: lower MAE means better\n",
    "    }\n",
    "\n",
    "check_accuracy(prev_data, predict_percentage) "
   ]
  },
  {
   "cell_type": "markdown",
   "id": "26c5e5ae",
   "metadata": {},
   "source": [
    "its too good, probably because training and testing on same data. Below it is used on data from last year:"
   ]
  },
  {
   "cell_type": "code",
   "execution_count": 5,
   "id": "a5397615",
   "metadata": {},
   "outputs": [
    {
     "data": {
      "text/plain": [
       "{'Mean Absolute Error': 0.0804439,\n",
       " 'Root Mean Squared Error': 0.0898621,\n",
       " 'Accuracy': 99.9195561}"
      ]
     },
     "execution_count": 5,
     "metadata": {},
     "output_type": "execute_result"
    }
   ],
   "source": [
    "old_data = np.array([[(24,2), (70,4), (41,3), (21,2), (60,4)],\n",
    "                [(47,3), (82,5), (87,5), (80,5), (35,3)],\n",
    "                [(73,4), (89,5), (100,8), (90,7), (17,2)],\n",
    "                [(77,5), (83,5), (85,5), (79,5), (55,4)],\n",
    "                [(12,2), (27,3), (52,4), (15,2), (30,3)]]).reshape(25,2)\n",
    "old_res = np.array([[0.015,0.082,0.019,0,0.037],\n",
    "[0.03,0.062,0.098,0.041,0.012],\n",
    "[0.113,0.108,0.049,0.034,0.006],\n",
    "[0.046,0.054,0.065,0.054,0.026],\n",
    "[0,0,0.019,0,0]]).reshape(25)\n",
    "\n",
    "combined_old_data = np.hstack((old_data, old_res.reshape(-1, 1)))\n",
    "\n",
    "check_accuracy(combined_old_data, predict_percentage) \n",
    "\n"
   ]
  },
  {
   "cell_type": "markdown",
   "id": "6d798354",
   "metadata": {},
   "source": [
    "seems like it is still pretty good, hence we can use it to predict the percentages in the next round"
   ]
  },
  {
   "cell_type": "code",
   "execution_count": 6,
   "id": "fcfc9e7e",
   "metadata": {},
   "outputs": [
    {
     "name": "stdout",
     "output_type": "stream",
     "text": [
      "[[8.00000000e+01 6.00000000e+00 1.48831701e-01]\n",
      " [5.00000000e+01 4.00000000e+00 9.20237523e-02]\n",
      " [8.30000000e+01 7.00000000e+00 1.32119470e-01]\n",
      " [3.10000000e+01 2.00000000e+00 7.65723255e-02]\n",
      " [6.00000000e+01 4.00000000e+00 1.29620591e-01]\n",
      " [8.90000000e+01 8.00000000e+00 1.26686290e-01]\n",
      " [1.00000000e+01 1.00000000e+00 2.56102482e-02]\n",
      " [3.70000000e+01 3.00000000e+00 7.11391455e-02]\n",
      " [7.00000000e+01 4.00000000e+00 1.67217429e-01]\n",
      " [9.00000000e+01 1.00000000e+01 7.44634076e-02]\n",
      " [1.70000000e+01 1.00000000e+00 5.19280349e-02]\n",
      " [4.00000000e+01 3.00000000e+00 8.24181970e-02]\n",
      " [7.30000000e+01 4.00000000e+00 1.78496480e-01]\n",
      " [1.00000000e+02 1.50000000e+01 0.00000000e+00]\n",
      " [2.00000000e+01 2.00000000e+00 3.52158035e-02]\n",
      " [4.10000000e+01 3.00000000e+00 8.61778808e-02]\n",
      " [7.90000000e+01 5.00000000e+00 1.73063300e-01]\n",
      " [2.30000000e+01 2.00000000e+00 4.64948549e-02]\n",
      " [4.70000000e+01 3.00000000e+00 1.08735984e-01]\n",
      " [3.00000000e+01 2.00000000e+00 7.28126417e-02]]\n"
     ]
    }
   ],
   "source": [
    "new_data = np.array([\n",
    "    [80, 6], [50, 4], [83, 7], [31, 2], [60, 4],   # Row A\n",
    "    [89, 8], [10, 1], [37, 3], [70, 4], [90, 10],  # Row B\n",
    "    [17, 1], [40, 3], [73, 4], [100, 15], [20, 2], # Row C\n",
    "    [41, 3], [79, 5], [23, 2], [47, 3], [30, 2]    # Row D\n",
    "])\n",
    "\n",
    "preds = np.array([predict_percentage(m,h) for m,h in new_data]).clip(0)\n",
    "combined_new_data = np.hstack((new_data, preds.reshape(-1, 1)))\n",
    "\n",
    "print(combined_new_data)"
   ]
  },
  {
   "cell_type": "markdown",
   "id": "e3a7bcee",
   "metadata": {},
   "source": [
    "Using this as priori as we did in round2, we can find out the best options to go with."
   ]
  },
  {
   "cell_type": "code",
   "execution_count": null,
   "id": "af85ed5a",
   "metadata": {},
   "outputs": [],
   "source": [
    "def fee(n):\n",
    "    \"\"\"Compute the fee for a total of n expeditions.\n",
    "\n",
    "    Parameters\n",
    "    ----------\n",
    "    n : int\n",
    "        Number of expeditions.\n",
    "    \n",
    "    Returns\n",
    "    -------\n",
    "    float\n",
    "        Fee.\n",
    "    \"\"\"\n",
    "    if n == 1:\n",
    "        return 0\n",
    "    if n == 2:\n",
    "        return -50\n",
    "    if n == 3:\n",
    "        return -150\n",
    "\n",
    "def payoff(mults, hunts, shares):\n",
    "    \"\"\"Compute the final profit after the expeditions.\n",
    "\n",
    "    Parameters\n",
    "    ----------\n",
    "    mults : list of int\n",
    "        Multipliers for each destination.\n",
    "    hunts : list of int\n",
    "        Hunters for each destination.\n",
    "    shares : list of int\n",
    "        Shares for each destination.\n",
    "    \n",
    "    Returns\n",
    "    -------\n",
    "    float\n",
    "        Profit.\n",
    "    \"\"\"\n",
    "    \n",
    "    val = 10 * sum([mult/(hunt + 100*share) for (mult, hunt, share) in zip(mults, hunts, shares)]) + fee(len(mults))\n",
    "\n",
    "    if 17 in mults and 30 in mults and 31 in mults:\n",
    "        print(mults,hunts,shares)\n",
    "        print(val)\n",
    "        for (mult, hunt, share) in zip(mults, hunts, shares):\n",
    "            print(mult, hunt, share)\n",
    "            print(hunt+100*share)\n",
    "            print(mult/(hunt+100*share))\n",
    "            print(100*mult/(hunt + 100*share))\n",
    "    return val\n",
    "\n",
    "def maximize_prior_top(arr, shares, k):\n",
    "    \"\"\"Given the prior, compute solutions that yield top k profits.\n",
    "\n",
    "    Parameters\n",
    "    ----------\n",
    "    shares : list of int\n",
    "        Shares for each destination.\n",
    "    k : int\n",
    "        Number of solutions\n",
    "    \n",
    "    Returns\n",
    "    -------\n",
    "    list of tuple\n",
    "        Top k profits and optimal expeditions.\n",
    "    \"\"\"\n",
    "    datas = [(mult, hunt, share) for ([mult, hunt], share) in zip(arr, shares)]\n",
    "    heap = []\n",
    "    iterables = [itertools.combinations(datas, n_exp) for n_exp in range(1, 4)]\n",
    "    for (i, data) in enumerate(itertools.chain.from_iterable(iterables)):\n",
    "        mults = [tupl[0] for tupl in data]\n",
    "        hunts = [tupl[1] for tupl in data]\n",
    "        shares = [tupl[-1] for tupl in data]\n",
    "        val = payoff(mults, hunts, shares)\n",
    "        expeditions = list(zip(mults, hunts))\n",
    "        if i < k:\n",
    "            heapq.heappush(heap, (val, expeditions))\n",
    "        elif val > heap[0][0]:\n",
    "            heapq.heappop(heap)\n",
    "            heapq.heappush(heap, (val, expeditions))\n",
    "    return sorted(heap, reverse=True)"
   ]
  },
  {
   "cell_type": "code",
   "execution_count": 28,
   "id": "d7c7be05",
   "metadata": {},
   "outputs": [
    {
     "name": "stdout",
     "output_type": "stream",
     "text": [
      "[31, 17, 30] [2, 1, 2] [0.07657232551281415, 0.05192803492636933, 0.07281264168924886]\n",
      "768.7469475989528\n",
      "31 2 0.07657232551281415\n",
      "9.657232551281414\n",
      "3.2100293573117513\n",
      "321.0029357311751\n",
      "17 1 0.05192803492636933\n",
      "6.1928034926369335\n",
      "2.7451218208703883\n",
      "274.51218208703887\n",
      "30 2 0.07281264168924886\n",
      "9.281264168924887\n",
      "3.2323182978073888\n",
      "323.2318297807389\n",
      "[(1463.1384313069284, [(89, 8), (90, 10), (100, 15)])]\n",
      "[31, 17, 30] [2, 1, 2] [0.07657232551281415, 0.05192803492636933, 0.07281264168924886]\n",
      "768.7469475989528\n",
      "31 2 0.07657232551281415\n",
      "9.657232551281414\n",
      "3.2100293573117513\n",
      "321.0029357311751\n",
      "17 1 0.05192803492636933\n",
      "6.1928034926369335\n",
      "2.7451218208703883\n",
      "274.51218208703887\n",
      "30 2 0.07281264168924886\n",
      "9.281264168924887\n",
      "3.2323182978073888\n",
      "323.2318297807389\n",
      "Exponent: 1 Profit: 1463.14 Optimal expeditions: [(89, 8), (90, 10), (100, 15)]\n"
     ]
    }
   ],
   "source": [
    "print(maximize_prior_top(new_data,preds, 1))\n",
    "\n",
    "[(10, 1), (100, 15), (20, 2)]\n",
    "for i in range(1,2):\n",
    "    shares = preds**i\n",
    "    res = maximize_prior_top(new_data,shares, 1)\n",
    "    print(\"Exponent:\", i, \"Profit:\", f\"{res[0][0]:.2f}\", \"Optimal expeditions:\", res[0][1])"
   ]
  },
  {
   "cell_type": "code",
   "execution_count": 17,
   "id": "c5f04604",
   "metadata": {},
   "outputs": [
    {
     "name": "stdout",
     "output_type": "stream",
     "text": [
      "80\t6\t0.1488317010936363\n",
      "50\t4\t0.09202375227361613\n",
      "83\t7\t0.1321194696208629\n",
      "31\t2\t0.07657232551281415\n",
      "60\t4\t0.1296205905092691\n",
      "89\t8\t0.12668628961878536\n",
      "10\t1\t0.025610248161412268\n",
      "37\t3\t0.07113914551073659\n",
      "70\t4\t0.16721742874492207\n",
      "90\t10\t0.07446340755541205\n",
      "17\t1\t0.05192803492636933\n",
      "40\t3\t0.08241819698143248\n",
      "73\t4\t0.17849648021561793\n",
      "100\t15\t0.0\n",
      "20\t2\t0.0352158034535959\n",
      "41\t3\t0.08617788080499779\n",
      "79\t5\t0.17306330021354038\n",
      "23\t2\t0.0464948549242918\n",
      "47\t3\t0.10873598374638956\n",
      "30\t2\t0.07281264168924886\n"
     ]
    }
   ],
   "source": [
    "for [a,b],c in zip(new_data, preds):\n",
    "    print(f\"{a}\\t{b}\\t{c}\")"
   ]
  }
 ],
 "metadata": {
  "kernelspec": {
   "display_name": "base",
   "language": "python",
   "name": "python3"
  },
  "language_info": {
   "codemirror_mode": {
    "name": "ipython",
    "version": 3
   },
   "file_extension": ".py",
   "mimetype": "text/x-python",
   "name": "python",
   "nbconvert_exporter": "python",
   "pygments_lexer": "ipython3",
   "version": "3.12.7"
  }
 },
 "nbformat": 4,
 "nbformat_minor": 5
}
