{
 "cells": [
  {
   "cell_type": "code",
   "execution_count": 11,
   "id": "c74e833f",
   "metadata": {},
   "outputs": [],
   "source": [
    "import numpy as np\n",
    "from sklearn.linear_model import LinearRegression\n",
    "from sklearn.metrics import mean_absolute_error, root_mean_squared_error"
   ]
  },
  {
   "cell_type": "code",
   "execution_count": null,
   "id": "2835bed7",
   "metadata": {},
   "outputs": [
    {
     "data": {
      "text/plain": [
       "0.006672627689203542"
      ]
     },
     "execution_count": 8,
     "metadata": {},
     "output_type": "execute_result"
    }
   ],
   "source": [
    "prev_data = np.array([[10, 1, 0.00998], [80,6,0.18178], [37,3,0.05118], [17,1,0.07539], [90,10,0.11807], [31,2,0.06987], [50,4,0.08516], [20,2,0.01614], [73,4,0.24060], [89,8,0.15184]])\n",
    "\n",
    "x = prev_data[:,0:2]\n",
    "y = prev_data[:,2]\n",
    "\n",
    "model = LinearRegression()\n",
    "model.fit(x, y)\n",
    "\n",
    "def predict_percentage(inhabitants, multiplier):\n",
    "    return model.predict([[inhabitants, multiplier]])[0]"
   ]
  },
  {
   "cell_type": "code",
   "execution_count": null,
   "id": "2b976f97",
   "metadata": {},
   "outputs": [
    {
     "data": {
      "text/plain": [
       "{'Mean Absolute Error': 0.0149438,\n",
       " 'Root Mean Squared Error': 0.0174193,\n",
       " 'Accuracy': 99.9850562}"
      ]
     },
     "execution_count": 14,
     "metadata": {},
     "output_type": "execute_result"
    }
   ],
   "source": [
    "def check_accuracy(test_data, predict_percentage):\n",
    "    \"\"\"\n",
    "    Evaluates the accuracy of the predict_percentage model.\n",
    "\n",
    "    Parameters:\n",
    "    - test_data: List of tuples in the form [(inhabitants, multiplier, true_percentage), ...]\n",
    "    - predict_percentage: A function that takes (inhabitants, multiplier) and returns predicted percentage\n",
    "\n",
    "    Returns:\n",
    "    - Dictionary with MAE and RMSE\n",
    "    \"\"\"\n",
    "    y_true = []\n",
    "    y_pred = []\n",
    "\n",
    "    for inhabitants, multiplier, true_pct in test_data:\n",
    "        pred = predict_percentage(inhabitants, multiplier)\n",
    "        y_true.append(true_pct)\n",
    "        y_pred.append(pred)\n",
    "\n",
    "    mae = mean_absolute_error(y_true, y_pred)\n",
    "    rmse = root_mean_squared_error(y_true, y_pred)\n",
    "\n",
    "    return {\n",
    "        'Mean Absolute Error': round(mae, 7),\n",
    "        'Root Mean Squared Error': round(rmse, 7),\n",
    "        'Accuracy': round(100 - mae, 7)  # crude accuracy: lower MAE means better\n",
    "    }\n",
    "\n",
    "check_accuracy(prev_data, predict_percentage) "
   ]
  },
  {
   "cell_type": "markdown",
   "id": "26c5e5ae",
   "metadata": {},
   "source": [
    "its too good, probably because training and testing on same data. Below it is used on data from last year:"
   ]
  },
  {
   "cell_type": "code",
   "execution_count": 28,
   "id": "a5397615",
   "metadata": {},
   "outputs": [
    {
     "data": {
      "text/plain": [
       "{'Mean Absolute Error': 0.1045648,\n",
       " 'Root Mean Squared Error': 0.1221223,\n",
       " 'Accuracy': 99.8954352}"
      ]
     },
     "execution_count": 28,
     "metadata": {},
     "output_type": "execute_result"
    }
   ],
   "source": [
    "old_data = np.array([[(24,2), (70,4), (41,3), (21,2), (60,4)],\n",
    "                [(47,3), (82,5), (87,5), (80,5), (35,3)],\n",
    "                [(73,4), (89,5), (100,8), (90,7), (17,2)],\n",
    "                [(77,5), (83,5), (85,5), (79,5), (55,4)],\n",
    "                [(12,2), (27,3), (52,4), (15,2), (30,3)]]).reshape(25,2)\n",
    "old_res = np.array([[0.015,0.082,0.019,0,0.037],\n",
    "[0.03,0.062,0.098,0.041,0.012],\n",
    "[0.113,0.108,0.049,0.034,0.006],\n",
    "[0.046,0.054,0.065,0.054,0.026],\n",
    "[0,0,0.019,0,0]]).reshape(25)\n",
    "\n",
    "combined_old_data = np.hstack((old_data, old_res.reshape(-1, 1)))\n",
    "\n",
    "check_accuracy(combined_old_data, predict_percentage) \n",
    "\n"
   ]
  },
  {
   "cell_type": "markdown",
   "id": "6d798354",
   "metadata": {},
   "source": [
    "seems like it is still pretty good, hence we can use it to predict the percentages in the next round"
   ]
  },
  {
   "cell_type": "code",
   "execution_count": 29,
   "id": "fcfc9e7e",
   "metadata": {},
   "outputs": [
    {
     "name": "stdout",
     "output_type": "stream",
     "text": [
      "[[8.00000000e+01 6.00000000e+00 1.87452281e-01]\n",
      " [5.00000000e+01 4.00000000e+00 1.05002575e-01]\n",
      " [8.30000000e+01 7.00000000e+00 1.67850066e-01]\n",
      " [3.10000000e+01 2.00000000e+00 7.83110152e-02]\n",
      " [6.00000000e+01 4.00000000e+00 1.55691799e-01]\n",
      " [8.90000000e+01 8.00000000e+00 1.63454617e-01]\n",
      " [1.00000000e+01 1.00000000e+00 6.67262769e-03]\n",
      " [3.70000000e+01 3.00000000e+00 7.39155667e-02]\n",
      " [7.00000000e+01 4.00000000e+00 2.06381023e-01]\n",
      " [9.00000000e+01 1.00000000e+01 9.89055735e-02]\n",
      " [1.70000000e+01 1.00000000e+00 4.21550845e-02]\n",
      " [4.00000000e+01 3.00000000e+00 8.91223339e-02]\n",
      " [7.30000000e+01 4.00000000e+00 2.21587790e-01]\n",
      " [1.00000000e+02 1.50000000e+01 0.00000000e+00]\n",
      " [2.00000000e+01 2.00000000e+00 2.25528688e-02]\n",
      " [4.10000000e+01 3.00000000e+00 9.41912563e-02]\n",
      " [7.90000000e+01 5.00000000e+00 2.17192342e-01]\n",
      " [2.30000000e+01 2.00000000e+00 3.77596360e-02]\n",
      " [4.70000000e+01 3.00000000e+00 1.24604791e-01]\n",
      " [3.00000000e+01 2.00000000e+00 7.32420928e-02]]\n"
     ]
    }
   ],
   "source": [
    "new_data = np.array([\n",
    "    [80, 6], [50, 4], [83, 7], [31, 2], [60, 4],   # Row A\n",
    "    [89, 8], [10, 1], [37, 3], [70, 4], [90, 10],  # Row B\n",
    "    [17, 1], [40, 3], [73, 4], [100, 15], [20, 2], # Row C\n",
    "    [41, 3], [79, 5], [23, 2], [47, 3], [30, 2]    # Row D\n",
    "])\n",
    "\n",
    "preds = np.array([predict_percentage(m,h) for m,h in new_data]).clip(0)\n",
    "combined_new_data = np.hstack((new_data, preds.reshape(-1, 1)))\n",
    "\n",
    "print(combined_new_data)"
   ]
  }
 ],
 "metadata": {
  "kernelspec": {
   "display_name": "base",
   "language": "python",
   "name": "python3"
  },
  "language_info": {
   "codemirror_mode": {
    "name": "ipython",
    "version": 3
   },
   "file_extension": ".py",
   "mimetype": "text/x-python",
   "name": "python",
   "nbconvert_exporter": "python",
   "pygments_lexer": "ipython3",
   "version": "3.12.7"
  }
 },
 "nbformat": 4,
 "nbformat_minor": 5
}
